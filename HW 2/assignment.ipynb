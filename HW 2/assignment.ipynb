{
  "nbformat": 4,
  "nbformat_minor": 0,
  "metadata": {
    "kernelspec": {
      "display_name": "Python 3",
      "language": "python",
      "name": "python3"
    },
    "language_info": {
      "codemirror_mode": {
        "name": "ipython",
        "version": 3
      },
      "file_extension": ".py",
      "mimetype": "text/x-python",
      "name": "python",
      "nbconvert_exporter": "python",
      "pygments_lexer": "ipython3",
      "version": "3.7.4"
    },
    "colab": {
      "name": "assignment.ipynb",
      "provenance": []
    }
  },
  "cells": [
    {
      "cell_type": "markdown",
      "metadata": {
        "id": "vJdQGr-EZssv"
      },
      "source": [
        "# Assignment — Power Law"
      ]
    },
    {
      "cell_type": "code",
      "metadata": {
        "id": "FWyzZOpwZssz"
      },
      "source": [
        "import matplotlib.pyplot as plt\n",
        "import numpy as np\n",
        "import pandas as pd\n",
        "from zlib import adler32\n",
        "import requests\n",
        "import networkx as nx\n",
        "from typing import List"
      ],
      "execution_count": null,
      "outputs": []
    },
    {
      "cell_type": "markdown",
      "metadata": {
        "id": "LTOcVc3CZss0"
      },
      "source": [
        "The PDF of the Power law distribution is \n",
        "\n",
        "$$ p(x) = Cx^{-\\alpha},$$ \n",
        "\n",
        "where $C$ is a normalization constant \n",
        "\n",
        "$$C = \\frac{\\alpha - 1}{x_{\\text{min}}^{-\\alpha + 1}}$$ \n",
        "\n",
        "and $\\alpha>1$ is called an exponent of the distribution. "
      ]
    },
    {
      "cell_type": "code",
      "metadata": {
        "id": "1KFPPkaiZss0"
      },
      "source": [
        "def power_law_pdf(x, alpha=3.5, x_min=1):\n",
        "    C = (alpha - 1) / x_min ** (1 - alpha)\n",
        "    return C * x ** (-alpha)"
      ],
      "execution_count": null,
      "outputs": []
    },
    {
      "cell_type": "code",
      "metadata": {
        "id": "MbYTPEu7Zss1"
      },
      "source": [
        "x_space = np.linspace(1, 10, 100)\n",
        "plt.plot(x_space, power_law_pdf(x_space))\n",
        "plt.title('Power Law PDF');"
      ],
      "execution_count": null,
      "outputs": []
    },
    {
      "cell_type": "markdown",
      "metadata": {
        "id": "rACqdrORZss1"
      },
      "source": [
        "Let us generate observations from a Power Law RV."
      ]
    },
    {
      "cell_type": "markdown",
      "metadata": {
        "id": "5Ovi7QpAZss1"
      },
      "source": [
        "### Task 1. Power law CDF (0.6 point)"
      ]
    },
    {
      "cell_type": "markdown",
      "metadata": {
        "id": "oEWbVZBUZss2"
      },
      "source": [
        "The first step is to derive CDF of Powel law: $F(x) = P(X \\leq x)$\n",
        "\n",
        "$$F(x) = 1 - \\int_{x}^\\infty p(t) dt.$$\n",
        "\n",
        "Take the integral, derive CDF analytically and write a function `power_law_cdf` with parameters `x`, `alpha` and `x_min`."
      ]
    },
    {
      "cell_type": "code",
      "metadata": {
        "deletable": false,
        "nbgrader": {
          "cell_type": "code",
          "checksum": "dfa3158ba5ebe1454116372e3a44aec9",
          "grade": false,
          "grade_id": "cell-f682e125051975d6",
          "locked": false,
          "schema_version": 3,
          "solution": true,
          "task": false
        },
        "id": "fQoA7jFpZss2"
      },
      "source": [
        "def power_law_cdf(x, alpha=3.5, x_min=1):\n",
        "    # YOUR CODE HERE\n",
        "    raise NotImplementedError()"
      ],
      "execution_count": null,
      "outputs": []
    },
    {
      "cell_type": "code",
      "metadata": {
        "deletable": false,
        "editable": false,
        "nbgrader": {
          "cell_type": "code",
          "checksum": "f19138c1513bba3faf4d69d651e3643d",
          "grade": true,
          "grade_id": "cell-87d0428f480773c4",
          "locked": true,
          "points": 0.6,
          "schema_version": 3,
          "solution": false,
          "task": false
        },
        "id": "7ZJy99iRZss2"
      },
      "source": [
        "assert power_law_cdf(2, 2, 1) == 0.5\n",
        "assert power_law_cdf(10, 2, 1) == 0.9\n",
        "assert adler32(str(power_law_cdf(2, 3, 1)).encode()) == 32571595"
      ],
      "execution_count": null,
      "outputs": []
    },
    {
      "cell_type": "code",
      "metadata": {
        "id": "z5_R5Q1GZss3"
      },
      "source": [
        "x_space = np.linspace(1, 10, 100)\n",
        "plt.plot(x_space, power_law_cdf(x_space))\n",
        "plt.title('Power Law CDF');"
      ],
      "execution_count": null,
      "outputs": []
    },
    {
      "cell_type": "markdown",
      "metadata": {
        "id": "tqg1_JuzZss3"
      },
      "source": [
        "### Task 2. Power law PPF (0.6 point)"
      ]
    },
    {
      "cell_type": "markdown",
      "metadata": {
        "id": "9jfPikqeZss3"
      },
      "source": [
        "Let $X \\sim \\text{Power law}$. Next, define a random variable $R$, s.t. $R = F(X)$, so $R$ will be uniformly distributed on interval [0, 1] ([proof](https://en.wikipedia.org/wiki/Probability_integral_transform#Proof)). Good thing here is that we easily can generate uniformly distributed pseudorandom numbers and then transform them into Power Law. Let us find an expression for $x = F^{-1}(r)$, where $r$ is an observation from uniform distrubution on interval [0, 1]. \n",
        "\n",
        "Find an analytical form of $F^{-1}(r)$ and write a function `power_law_ppf` (percent point function, also known as a quantile) with parameters `r`, `alpha` and `x_min`. "
      ]
    },
    {
      "cell_type": "code",
      "metadata": {
        "deletable": false,
        "nbgrader": {
          "cell_type": "code",
          "checksum": "be67ee873cb3bf60c2e62921b187b228",
          "grade": false,
          "grade_id": "cell-63a819b2bc8441f1",
          "locked": false,
          "schema_version": 3,
          "solution": true,
          "task": false
        },
        "id": "vP89IAdEZss3"
      },
      "source": [
        "def power_law_ppf(r, alpha=3.5, x_min=1):\n",
        "    # YOUR CODE HERE\n",
        "    raise NotImplementedError()"
      ],
      "execution_count": null,
      "outputs": []
    },
    {
      "cell_type": "code",
      "metadata": {
        "deletable": false,
        "editable": false,
        "nbgrader": {
          "cell_type": "code",
          "checksum": "66dc6dea66047660258c1c1045c44c91",
          "grade": true,
          "grade_id": "cell-0b447767612a3798",
          "locked": true,
          "points": 0.6,
          "schema_version": 3,
          "solution": false,
          "task": false
        },
        "id": "tSx6iym2Zss4"
      },
      "source": [
        "assert round(power_law_ppf(0.5, 2, 1), 2) == 2\n",
        "assert round(power_law_ppf(0.9, 2, 1), 2) == 10\n",
        "assert adler32(str(round(power_law_ppf(0.96, 3, 1), 2)).encode()) == 19792020"
      ],
      "execution_count": null,
      "outputs": []
    },
    {
      "cell_type": "code",
      "metadata": {
        "id": "7nQ89bqGZss4"
      },
      "source": [
        "x_space = np.linspace(0, 0.999, 100)\n",
        "plt.plot(x_space, power_law_ppf(x_space))\n",
        "plt.title('Power Law PPF');"
      ],
      "execution_count": null,
      "outputs": []
    },
    {
      "cell_type": "markdown",
      "metadata": {
        "id": "Z_JpccTvZss4"
      },
      "source": [
        "Finally, we can generate observation from Power law distribution as follows:\n",
        "1. Generate observation from uniform distribution on interval [0, 1]\n",
        "2. Calculate PPF value of given observation"
      ]
    },
    {
      "cell_type": "code",
      "metadata": {
        "id": "9GRIBtD8Zss4"
      },
      "source": [
        "def power_law_generate(n, alpha=3.5, x_min=1, random_seed=1):\n",
        "    np.random.seed(random_seed)\n",
        "    uni_sample = np.random.uniform(0, 0.999, n)\n",
        "    return power_law_ppf(uni_sample, alpha, x_min)"
      ],
      "execution_count": null,
      "outputs": []
    },
    {
      "cell_type": "markdown",
      "metadata": {
        "id": "AutHliReZss4"
      },
      "source": [
        "Look at the histogram of the generated sample"
      ]
    },
    {
      "cell_type": "code",
      "metadata": {
        "id": "PWUXEHHjZss5"
      },
      "source": [
        "alpha = 3.5\n",
        "x_min = 1\n",
        "x_train = power_law_generate(1000, alpha, x_min)\n",
        "x_space = np.linspace(1, 15, 100)"
      ],
      "execution_count": null,
      "outputs": []
    },
    {
      "cell_type": "code",
      "metadata": {
        "id": "CnlP6VWaZss5"
      },
      "source": [
        "hist, bin_edges = np.histogram(x_train, bins=200, density=True)\n",
        "bin_centers = (bin_edges[1:] + bin_edges[:-1]) / 2\n",
        "plt.scatter(bin_centers[hist > 0], hist[hist > 0], s=10)\n",
        "plt.plot(x_space, power_law_pdf(x_space, alpha, x_min), \n",
        "         label='Theoretical PDF', c='tab:orange')\n",
        "plt.legend()\n",
        "plt.xlim(1, 10)\n",
        "plt.show()"
      ],
      "execution_count": null,
      "outputs": []
    },
    {
      "cell_type": "markdown",
      "metadata": {
        "id": "-nt1mibMZss5"
      },
      "source": [
        "And here is the same histogram in log-log scale"
      ]
    },
    {
      "cell_type": "code",
      "metadata": {
        "id": "FjaVt3S5Zss5"
      },
      "source": [
        "hist, bin_edges = np.histogram(x_train, bins=200, density=True)\n",
        "bin_centers = (bin_edges[1:] + bin_edges[:-1]) / 2\n",
        "plt.scatter(bin_centers, hist, s=10)\n",
        "plt.plot(x_space, power_law_pdf(x_space, alpha, x_min), \n",
        "         label='Theoretical PDF', c='tab:orange')\n",
        "plt.legend()\n",
        "plt.xscale('log')\n",
        "plt.yscale('log')\n",
        "plt.xlim(1, 10)\n",
        "plt.show()"
      ],
      "execution_count": null,
      "outputs": []
    },
    {
      "cell_type": "markdown",
      "metadata": {
        "id": "n7XWyptDZss6"
      },
      "source": [
        "### Task 3. Estimation of alpha with linear binning (0.6 point)"
      ]
    },
    {
      "cell_type": "markdown",
      "metadata": {
        "id": "DQ8S1voQZss6"
      },
      "source": [
        "Given observations from the Power Law distribution, try to estimate $\\alpha$. The easiest way is to draw an empirical PDF with linear binning in log-log scale and apply linear regression. By _linear binning_ we mean to keep a bin width is fixed.\n",
        "\n",
        "Write a function `alpha_lin_bins` that takes a train set, number of linear bins and returns an estimated $\\alpha$.\n",
        "\n",
        "_Hints:_\n",
        "* _Take log in both side of $p(x) = Cx^{-\\alpha}$_\n",
        "* _To calculate an empirical PDF, use `np.histogram(x_train, bins=bins, density=True)`_\n",
        "* _To calculate pseudoinverse matrix, use `np.linalg.pinv`_\n",
        "* _Also you can use fit-predict in `sklearn.linear.LinearRegression`_"
      ]
    },
    {
      "cell_type": "code",
      "metadata": {
        "deletable": false,
        "nbgrader": {
          "cell_type": "code",
          "checksum": "98c4c6ef2ed0c2d94c440d3e8e932b7e",
          "grade": false,
          "grade_id": "cell-c57a5c7c5834b80e",
          "locked": false,
          "schema_version": 3,
          "solution": true,
          "task": false
        },
        "id": "AWSsFRnnZss6"
      },
      "source": [
        "def alpha_lin_bins(x_train, bins):\n",
        "    # YOUR CODE HERE\n",
        "    raise NotImplementedError()"
      ],
      "execution_count": null,
      "outputs": []
    },
    {
      "cell_type": "code",
      "metadata": {
        "deletable": false,
        "editable": false,
        "nbgrader": {
          "cell_type": "code",
          "checksum": "6826a6691147f838c13ed2ebdf7c4f09",
          "grade": true,
          "grade_id": "cell-b9cf21aabb190bd7",
          "locked": true,
          "points": 0.6,
          "schema_version": 3,
          "solution": false,
          "task": false
        },
        "id": "MH2cVRK8Zss6"
      },
      "source": [
        "bins = 100\n",
        "x_train = power_law_generate(1000, x_min=1, alpha=2)\n",
        "assert np.abs(alpha_lin_bins(x_train, bins) - 2) < 0.7\n",
        "x_train = power_law_generate(1000, x_min=1, alpha=3.5)\n",
        "assert np.abs(alpha_lin_bins(x_train, bins) - 3.5) < 0.9\n",
        "x_train = power_law_generate(1000, x_min=1, alpha=10)\n",
        "assert np.abs(alpha_lin_bins(x_train, bins) - 10) < 2"
      ],
      "execution_count": null,
      "outputs": []
    },
    {
      "cell_type": "code",
      "metadata": {
        "id": "XQ8-9E_zZss7"
      },
      "source": [
        "x_min = 1\n",
        "alpha = 3.5\n",
        "bins = 100\n",
        "\n",
        "x_train = power_law_generate(1000, alpha, x_min)\n",
        "hist, bin_edges = np.histogram(x_train, bins=bins, density=True)\n",
        "bin_centers = (bin_edges[1:] + bin_edges[:-1]) / 2\n",
        "plt.scatter(bin_centers, hist, s=10)\n",
        "\n",
        "hat_alpha = alpha_lin_bins(x_train, bins)\n",
        "x_space = np.linspace(x_min, x_train.max(), 100)\n",
        "plt.plot(x_space, power_law_pdf(x_space, hat_alpha, x_min), \n",
        "         label='Estimated PDF', c='tab:orange')\n",
        "plt.legend()\n",
        "plt.title('Truth alpha = {:.2f}, estimated alpha = {:.2f}'.format(alpha, hat_alpha))\n",
        "plt.xscale('log')\n",
        "plt.yscale('log')\n",
        "plt.show()"
      ],
      "execution_count": null,
      "outputs": []
    },
    {
      "cell_type": "markdown",
      "metadata": {
        "id": "xbOF5ewAZss7"
      },
      "source": [
        "### Task 4. Estimation of alpha with logarithmic binning (2 points)"
      ]
    },
    {
      "cell_type": "markdown",
      "metadata": {
        "id": "9yrE8NEyZss7"
      },
      "source": [
        "As we see the estimation with linear binning is noticeably inaccurate. For logarithmic binning we let the bin sizes increase with the value, making sure that each bin has a comparable number of observations.\n",
        "\n",
        "Write a function `alpha_log_bins` that takes a train set, number of log bins and returns an estimated $\\alpha$.\n",
        "\n",
        "*Hint: use `np.logspace(np.log10(x_min), np.log10(x_train.max()), bins)` to generate an increasing logarithmic sequence of bins*"
      ]
    },
    {
      "cell_type": "code",
      "metadata": {
        "deletable": false,
        "nbgrader": {
          "cell_type": "code",
          "checksum": "f20a7d7035785da992e45b13ecfac97b",
          "grade": false,
          "grade_id": "cell-bc1092822f8126d1",
          "locked": false,
          "schema_version": 3,
          "solution": true,
          "task": false
        },
        "id": "eWZ5edh3Zss7"
      },
      "source": [
        "def alpha_log_bins(x_train, bins):\n",
        "    # YOUR CODE HERE\n",
        "    raise NotImplementedError()"
      ],
      "execution_count": null,
      "outputs": []
    },
    {
      "cell_type": "code",
      "metadata": {
        "deletable": false,
        "editable": false,
        "nbgrader": {
          "cell_type": "code",
          "checksum": "fdaf8d2b30bf5ffd1142ff90e2c8ae80",
          "grade": true,
          "grade_id": "cell-1bc5eba53dc73dbd",
          "locked": true,
          "points": 2,
          "schema_version": 3,
          "solution": false,
          "task": false
        },
        "id": "sLguBX-zZss7"
      },
      "source": [
        "bins = 100\n",
        "x_train = power_law_generate(1000, x_min=1, alpha=2)\n",
        "assert np.abs(alpha_log_bins(x_train, bins) - 2) < 0.2\n",
        "x_train = power_law_generate(1000, x_min=1, alpha=3.5)\n",
        "assert np.abs(alpha_log_bins(x_train, bins) - 3.5) < 0.5\n",
        "x_train = power_law_generate(1000, x_min=1, alpha=10)\n",
        "assert np.abs(alpha_log_bins(x_train, bins) - 10) < 1.5"
      ],
      "execution_count": null,
      "outputs": []
    },
    {
      "cell_type": "code",
      "metadata": {
        "id": "qNoxzjf9Zss8"
      },
      "source": [
        "x_min = 1\n",
        "alpha = 3.5\n",
        "bins = 100\n",
        "\n",
        "x_train = power_law_generate(1000, alpha, x_min)\n",
        "binning = np.logspace(np.log10(x_min), np.log10(x_train.max()), bins)\n",
        "hist, bin_edges = np.histogram(x_train, bins=binning, density=True)\n",
        "bin_centers = (bin_edges[1:] + bin_edges[:-1]) / 2\n",
        "plt.scatter(bin_centers, hist, s=10)\n",
        "\n",
        "hat_alpha = alpha_log_bins(x_train, bins)\n",
        "x_space = np.linspace(x_min, x_train.max(), 100)\n",
        "plt.plot(x_space, power_law_pdf(x_space, hat_alpha, x_min), \n",
        "         label='Estimated PDF', c='tab:orange')\n",
        "plt.legend()\n",
        "plt.title('Truth alpha = {:.2f}, estimated alpha = {:.2f}'.format(alpha, hat_alpha))\n",
        "plt.xscale('log')\n",
        "plt.yscale('log')\n",
        "plt.show()"
      ],
      "execution_count": null,
      "outputs": []
    },
    {
      "cell_type": "markdown",
      "metadata": {
        "id": "gQchOpj-Zss8"
      },
      "source": [
        "### Task 5. Generation graphs with a given degree distribution (0.6 point)"
      ]
    },
    {
      "cell_type": "markdown",
      "metadata": {
        "id": "e7QCHXTnZss8"
      },
      "source": [
        "In this task we will generate different types of graph from its degree distributions.\n",
        "\n",
        "__Graph A__ should be described with the density `[0, 2, 10]`."
      ]
    },
    {
      "cell_type": "code",
      "metadata": {
        "id": "f_i-YXbIZss8"
      },
      "source": [
        "dens_a = [0, 2, 10]\n",
        "plt.bar(range(len(dens_a)), dens_a);"
      ],
      "execution_count": null,
      "outputs": []
    },
    {
      "cell_type": "code",
      "metadata": {
        "deletable": false,
        "nbgrader": {
          "cell_type": "code",
          "checksum": "7726ebdf8814362b9595c84fe0221e09",
          "grade": false,
          "grade_id": "cell-4308485bfb1bf30e",
          "locked": false,
          "schema_version": 3,
          "solution": true,
          "task": false
        },
        "id": "yDVzzJ_KZss8"
      },
      "source": [
        "def generate_graph_a() -> nx.Graph:\n",
        "    # YOUR CODE HERE\n",
        "    raise NotImplementedError()"
      ],
      "execution_count": null,
      "outputs": []
    },
    {
      "cell_type": "code",
      "metadata": {
        "deletable": false,
        "editable": false,
        "nbgrader": {
          "cell_type": "code",
          "checksum": "3f1eedc648e3171726e3ed3c949afb83",
          "grade": true,
          "grade_id": "cell-226da2d721eaace4",
          "locked": true,
          "points": 0.15,
          "schema_version": 3,
          "solution": false,
          "task": false
        },
        "id": "KISYQWezZss9"
      },
      "source": [
        "assert nx.degree_histogram(generate_graph_a()) == dens_a"
      ],
      "execution_count": null,
      "outputs": []
    },
    {
      "cell_type": "markdown",
      "metadata": {
        "id": "20mCZ2jnZss9"
      },
      "source": [
        "__Graph B__"
      ]
    },
    {
      "cell_type": "code",
      "metadata": {
        "id": "1M0iXZLBZss-"
      },
      "source": [
        "dens_b = [0, 0, 10]\n",
        "plt.bar(range(len(dens_b)), dens_b);"
      ],
      "execution_count": null,
      "outputs": []
    },
    {
      "cell_type": "code",
      "metadata": {
        "deletable": false,
        "nbgrader": {
          "cell_type": "code",
          "checksum": "41e7af615198bd34567381ea1b34f56c",
          "grade": false,
          "grade_id": "cell-55d7cfacd5c8d553",
          "locked": false,
          "schema_version": 3,
          "solution": true,
          "task": false
        },
        "id": "AhJ3iA2wZss-"
      },
      "source": [
        "def generate_graph_b() -> nx.Graph:\n",
        "    # YOUR CODE HERE\n",
        "    raise NotImplementedError()"
      ],
      "execution_count": null,
      "outputs": []
    },
    {
      "cell_type": "code",
      "metadata": {
        "deletable": false,
        "editable": false,
        "nbgrader": {
          "cell_type": "code",
          "checksum": "7447308c0c61ffcff7ad80842ad13fd1",
          "grade": true,
          "grade_id": "cell-11bb8205ad27326a",
          "locked": true,
          "points": 0.15,
          "schema_version": 3,
          "solution": false,
          "task": false
        },
        "id": "Eu9FWhbxZss_"
      },
      "source": [
        "assert nx.degree_histogram(generate_graph_b()) == dens_b"
      ],
      "execution_count": null,
      "outputs": []
    },
    {
      "cell_type": "markdown",
      "metadata": {
        "id": "XV0b4g8ZZss_"
      },
      "source": [
        "__Graph C__"
      ]
    },
    {
      "cell_type": "code",
      "metadata": {
        "id": "EUAPVPbEZstA"
      },
      "source": [
        "dens_c = [0, 0, 0, 0, 5]\n",
        "plt.bar(range(len(dens_c)), dens_c);"
      ],
      "execution_count": null,
      "outputs": []
    },
    {
      "cell_type": "code",
      "metadata": {
        "deletable": false,
        "nbgrader": {
          "cell_type": "code",
          "checksum": "dac931bc16a78ae011fdaab8f99a54ca",
          "grade": false,
          "grade_id": "cell-6ad0ea3f81976162",
          "locked": false,
          "schema_version": 3,
          "solution": true,
          "task": false
        },
        "id": "OQSzZeygZstA"
      },
      "source": [
        "def generate_graph_c() -> nx.Graph:\n",
        "    # YOUR CODE HERE\n",
        "    raise NotImplementedError()"
      ],
      "execution_count": null,
      "outputs": []
    },
    {
      "cell_type": "code",
      "metadata": {
        "deletable": false,
        "editable": false,
        "nbgrader": {
          "cell_type": "code",
          "checksum": "f710e78a7a1e58bb99cc7e4e7f015979",
          "grade": true,
          "grade_id": "cell-508d2e23c067c4d2",
          "locked": true,
          "points": 0.15,
          "schema_version": 3,
          "solution": false,
          "task": false
        },
        "id": "J6l01UBDZstA"
      },
      "source": [
        "assert nx.degree_histogram(generate_graph_c()) == dens_c"
      ],
      "execution_count": null,
      "outputs": []
    },
    {
      "cell_type": "markdown",
      "metadata": {
        "id": "GwDuMrvTZstA"
      },
      "source": [
        "__Graph D__"
      ]
    },
    {
      "cell_type": "code",
      "metadata": {
        "id": "rT_tBXBOZstB"
      },
      "source": [
        "dens_d = [0, 5, 0, 0, 0, 1]\n",
        "plt.bar(range(len(dens_d)), dens_d);"
      ],
      "execution_count": null,
      "outputs": []
    },
    {
      "cell_type": "code",
      "metadata": {
        "deletable": false,
        "nbgrader": {
          "cell_type": "code",
          "checksum": "f1ab3b74f2b7a677c3844675c785ef5a",
          "grade": false,
          "grade_id": "cell-2a6c0c0fe4dda491",
          "locked": false,
          "schema_version": 3,
          "solution": true,
          "task": false
        },
        "id": "QiZyHss3ZstB"
      },
      "source": [
        "def generate_graph_d() -> nx.Graph:\n",
        "    # YOUR CODE HERE\n",
        "    raise NotImplementedError()"
      ],
      "execution_count": null,
      "outputs": []
    },
    {
      "cell_type": "code",
      "metadata": {
        "deletable": false,
        "editable": false,
        "nbgrader": {
          "cell_type": "code",
          "checksum": "87569732e965a2bb960b4e5b73bb1bbc",
          "grade": true,
          "grade_id": "cell-c9c34144467f9031",
          "locked": true,
          "points": 0.15,
          "schema_version": 3,
          "solution": false,
          "task": false
        },
        "id": "hExOrDbXZstB"
      },
      "source": [
        "assert nx.degree_histogram(generate_graph_d()) == dens_d"
      ],
      "execution_count": null,
      "outputs": []
    },
    {
      "cell_type": "markdown",
      "metadata": {
        "id": "gTB2pwm1ZstB"
      },
      "source": [
        "### Task 6. Reading a degree distribution from a file (2 points)"
      ]
    },
    {
      "cell_type": "markdown",
      "metadata": {
        "id": "yoXS4YtMZstC"
      },
      "source": [
        "In this task we will estimate CDF of degree distribution of a given graph. Firstly, let us download the Game of Thrones relationships dataset and create a graph."
      ]
    },
    {
      "cell_type": "code",
      "metadata": {
        "id": "VHyp74hCZstC"
      },
      "source": [
        "raw_data = pd.read_csv(\"https://raw.githubusercontent.com/network-science-course/network-science-course/main/datasets/game_of_thrones_relationships.csv\")\n"
      ],
      "execution_count": null,
      "outputs": []
    },
    {
      "cell_type": "code",
      "metadata": {
        "id": "FrPF6geFZstC"
      },
      "source": [
        "raw_data.head()"
      ],
      "execution_count": null,
      "outputs": []
    },
    {
      "cell_type": "code",
      "metadata": {
        "id": "AIXeRArSZstC"
      },
      "source": [
        "g = nx.from_pandas_edgelist(raw_data, source=\"character1\", target=\"character2\")"
      ],
      "execution_count": null,
      "outputs": []
    },
    {
      "cell_type": "code",
      "metadata": {
        "id": "SHCTtIdCZstC"
      },
      "source": [
        "nx.draw(g, node_size=10)"
      ],
      "execution_count": null,
      "outputs": []
    },
    {
      "cell_type": "markdown",
      "metadata": {
        "id": "IAcq-oZKZstD"
      },
      "source": [
        "In the social network analysis, we will often consider the largest connected component only. Before estimation of CDF, we need to remove all connected components except of the largest one.\n",
        "\n",
        "_Hint: use `nx.connected_components` to get a list of nodes for each connected component._"
      ]
    },
    {
      "cell_type": "code",
      "metadata": {
        "deletable": false,
        "nbgrader": {
          "cell_type": "code",
          "checksum": "07e8207f2a0510ee621508841df6acd0",
          "grade": false,
          "grade_id": "cell-37477b43188105f5",
          "locked": false,
          "schema_version": 3,
          "solution": true,
          "task": false
        },
        "id": "6o6ozF8eZstD"
      },
      "source": [
        "def select_gygantic_component(g: nx.Graph) -> nx.Graph:\n",
        "    # YOUR CODE HERE\n",
        "    raise NotImplementedError()"
      ],
      "execution_count": null,
      "outputs": []
    },
    {
      "cell_type": "code",
      "metadata": {
        "deletable": false,
        "editable": false,
        "nbgrader": {
          "cell_type": "code",
          "checksum": "9e8ea27b74e04a5eecf05c29c5d5558e",
          "grade": true,
          "grade_id": "cell-00509dc9b42f24ea",
          "locked": true,
          "points": 1,
          "schema_version": 3,
          "solution": false,
          "task": false
        },
        "id": "aeI3i9yNZstD"
      },
      "source": [
        "gg = select_gygantic_component(g)\n",
        "assert gg.number_of_edges() == 49\n",
        "assert gg.number_of_nodes() == 37"
      ],
      "execution_count": null,
      "outputs": []
    },
    {
      "cell_type": "code",
      "metadata": {
        "id": "onzgJ6S6ZstE"
      },
      "source": [
        "nx.draw(gg, node_size=30)"
      ],
      "execution_count": null,
      "outputs": []
    },
    {
      "cell_type": "markdown",
      "metadata": {
        "id": "iOypm0P8ZstE"
      },
      "source": [
        "Now we can calculate an empirical CDF for a given graph. Recall a formal definition of CDF\n",
        "\n",
        "$$F_X(x) = P(X \\leq x)$$\n",
        "\n",
        "And in empirical CDF, we estimate probability by share of nodes.\n",
        "\n",
        "Write a method `empirical_cdf` that takes a graph and returns a np.array of probabilities. The first element is related to the node degree 0, the second — the node degree 1 and so on. The method should be able to group degrees occurence into equaly distributed bins. \n",
        "\n",
        "_Hint: use `nx.degee_histogram` to return a degree histogram — a list of numbers of nodes for each degree._"
      ]
    },
    {
      "cell_type": "code",
      "metadata": {
        "id": "RstUKRJsZstE"
      },
      "source": [
        "nx.degree_histogram(g)"
      ],
      "execution_count": null,
      "outputs": []
    },
    {
      "cell_type": "code",
      "metadata": {
        "deletable": false,
        "nbgrader": {
          "cell_type": "code",
          "checksum": "bc0bf47192b76ea6bcdde2ddec48367f",
          "grade": false,
          "grade_id": "cell-cbb478364b51233f",
          "locked": false,
          "schema_version": 3,
          "solution": true,
          "task": false
        },
        "id": "hHjIKA-ZZstE"
      },
      "source": [
        "def empirical_cdf(g: nx.Graph) -> List[float]:\n",
        "    # YOUR CODE HERE\n",
        "    raise NotImplementedError()"
      ],
      "execution_count": null,
      "outputs": []
    },
    {
      "cell_type": "code",
      "metadata": {
        "deletable": false,
        "editable": false,
        "nbgrader": {
          "cell_type": "code",
          "checksum": "9ab0814dc4b3d51e6e7fa7db68fd2dda",
          "grade": true,
          "grade_id": "cell-a1fd6b06aff25d78",
          "locked": true,
          "points": 1,
          "schema_version": 3,
          "solution": false,
          "task": false
        },
        "id": "KkP2b_7SZstE"
      },
      "source": [
        "ecdf = empirical_cdf(gg)\n",
        "assert ecdf[0] == 0\n",
        "assert ecdf[-1] == 1\n",
        "assert np.all(ecdf[:-1] <= ecdf[1:])\n",
        "assert adler32(str(empirical_cdf(gg).round(4).sum()).encode()) == 70123823"
      ],
      "execution_count": null,
      "outputs": []
    },
    {
      "cell_type": "code",
      "metadata": {
        "id": "-mOSibMLZstF"
      },
      "source": [
        "plt.plot(ecdf)\n",
        "plt.xlabel('degree')\n",
        "plt.ylabel('probability')\n",
        "plt.title('Empirical CDF')\n",
        "plt.show()"
      ],
      "execution_count": null,
      "outputs": []
    },
    {
      "cell_type": "markdown",
      "metadata": {
        "id": "MyYatLINZstF"
      },
      "source": [
        "### Task 7. MLE of alpha in Power Law (3 points)"
      ]
    },
    {
      "cell_type": "markdown",
      "metadata": {
        "id": "B-k98hYrZstF"
      },
      "source": [
        "Let us estimate $\\alpha$ and $x_\\min$ of a real social network using maximum likelihood. Here is a real degree distribution of the network of emails between members of the research institution with 1005 nodes."
      ]
    },
    {
      "cell_type": "code",
      "metadata": {
        "id": "ledt0E3jZstF"
      },
      "source": [
        "url = 'https://raw.githubusercontent.com/network-science-course/network-science-course/main/datasets/email_degree_sequence.txt'\n",
        "open('email_degree_sequence.txt', 'wb').write(requests.get(url).content);\n"
      ],
      "execution_count": null,
      "outputs": []
    },
    {
      "cell_type": "code",
      "metadata": {
        "id": "LajhH6EnZstF"
      },
      "source": [
        "degree_sequence = np.loadtxt('email_degree_sequence.txt')\n",
        "hist, bin_edges = np.histogram(degree_sequence, bins=1000, density=True)\n",
        "bin_centers = (bin_edges[1:] + bin_edges[:-1]) / 2\n",
        "plt.scatter(bin_centers[hist > 0], hist[hist > 0], s=5)\n",
        "plt.title('Princeton Facebook network degree distribution')\n",
        "plt.xscale('log')\n",
        "plt.yscale('log')"
      ],
      "execution_count": null,
      "outputs": []
    },
    {
      "cell_type": "markdown",
      "metadata": {
        "id": "MOIHwuf_ZstF"
      },
      "source": [
        "The MLE consists of:\n",
        "1. Fix $x_\\min$ as a minimal node degree (drop node degrees that less than $x_\\min$)\n",
        "2. Calculate $\\alpha$ via maximum likelihood estimation using fixed $x_\\min$\n",
        "$$\\alpha = 1 + n \\left[\\sum_i \\log \\frac{x_i}{x_\\min} \\right]^{-1}$$\n",
        "3. Calculate Kolmogorov-Smirnov test\n",
        "4. Fix $x_\\min$ as the next node degree\n",
        "5. Repeat 2-4 by scanning all possible $x_\\min$ and find the best $\\alpha$ and $x_\\min$ with respect to Kolmogorov-Smirnov test\n",
        "\n",
        "Write a function `ml_power_law_params` that takes a node degree sequence `degree_sequence` and returns a tuple of two values: the best $\\alpha$ and $x_\\min$.\n",
        "\n",
        "_Hints:_\n",
        "* _To calculate Kolmogorov-Smirnov distance use `scipy.stats.kstest` with a parameter `cdf=power_law_cdf`_"
      ]
    },
    {
      "cell_type": "code",
      "metadata": {
        "deletable": false,
        "nbgrader": {
          "cell_type": "code",
          "checksum": "8bc64f253c03d807aade17cb9dee113b",
          "grade": false,
          "grade_id": "cell-c0da4153dae3178a",
          "locked": false,
          "schema_version": 3,
          "solution": true,
          "task": false
        },
        "id": "KmUjaU_kZstG"
      },
      "source": [
        "def mle_power_law_params(degree_sequence):\n",
        "    # YOUR CODE HERE\n",
        "    raise NotImplementedError()"
      ],
      "execution_count": null,
      "outputs": []
    },
    {
      "cell_type": "code",
      "metadata": {
        "deletable": false,
        "editable": false,
        "nbgrader": {
          "cell_type": "code",
          "checksum": "efcacc9ad86394f0fb939e7c9d8dad7a",
          "grade": true,
          "grade_id": "cell-213992ed205e9591",
          "locked": true,
          "points": 3,
          "schema_version": 3,
          "solution": false,
          "task": false
        },
        "id": "qrbGl6aTZstG"
      },
      "source": [
        "alpha, x_min = 3.5, 3\n",
        "hat_alpha, hat_x_min = mle_power_law_params(power_law_generate(1000, alpha, x_min))\n",
        "assert np.abs(hat_alpha - alpha) < 0.05\n",
        "assert np.abs(hat_x_min - x_min) < 0.001\n",
        "\n",
        "alpha, x_min = 7, 1\n",
        "hat_alpha, hat_x_min = mle_power_law_params(power_law_generate(1000, alpha, x_min))\n",
        "assert np.abs(hat_alpha - alpha) < 0.1\n",
        "assert np.abs(hat_x_min - x_min) < 0.0001\n",
        "\n",
        "hat_alpha, hat_x_min = mle_power_law_params(degree_sequence)\n",
        "assert np.abs(hat_alpha - 2.9) < 0.1\n",
        "assert np.abs(hat_x_min - 42) < 1"
      ],
      "execution_count": null,
      "outputs": []
    },
    {
      "cell_type": "code",
      "metadata": {
        "id": "ATOpde04ZstG"
      },
      "source": [
        "hist, bin_edges = np.histogram(degree_sequence, bins=1000, density=True)\n",
        "bin_centers = (bin_edges[1:] + bin_edges[:-1]) / 2\n",
        "plt.scatter(bin_centers[hist > 0], hist[hist > 0], s=5)\n",
        "plt.title('Princeton Facebook network degree distribution')\n",
        "\n",
        "hat_alpha, hat_x_min = mle_power_law_params(degree_sequence)\n",
        "x_space = np.linspace(hat_x_min, degree_sequence.max(), 100)\n",
        "plt.plot(x_space, power_law_pdf(x_space, hat_alpha, hat_x_min), \n",
        "         label='Estimated PDF', c='tab:orange')\n",
        "plt.xscale('log')\n",
        "plt.yscale('log')\n",
        "plt.ylim(0.001, 0.5);"
      ],
      "execution_count": null,
      "outputs": []
    },
    {
      "cell_type": "markdown",
      "metadata": {
        "id": "DzcjyAtOZstG"
      },
      "source": [
        "### Task 8. QQ plot (0.6 point)"
      ]
    },
    {
      "cell_type": "markdown",
      "metadata": {
        "id": "lM3piye8ZstG"
      },
      "source": [
        "It might be useful to draw a quantile-quantile plot (QQ plot) to compare empirical and theoretical distributions by the eye. Your task here is to generate Power Law observations by given parameters and compare theoretical and empirical quantiles.\n",
        "\n",
        "Write a function `qqplot_data` that takes $\\alpha$, $x_\\min$, number of observations $n$ that will be generated and returns a tuple with two np.arrays: theoretical quantiles and empirical quantiles. Let quantiles be calculated for probabilities 0, 0.01, 0.02, ..., 0.99.\n",
        "\n",
        "_Hint: to calculate an empirical quantile, use `np.quantile`_"
      ]
    },
    {
      "cell_type": "code",
      "metadata": {
        "deletable": false,
        "nbgrader": {
          "cell_type": "code",
          "checksum": "8eec986886f46027e0d0884381921de0",
          "grade": false,
          "grade_id": "cell-7536b41d94152420",
          "locked": false,
          "schema_version": 3,
          "solution": true,
          "task": false
        },
        "id": "UWuFR_MsZstG"
      },
      "source": [
        "def qqplot_data(alpha, x_min, n):\n",
        "    # YOUR CODE HERE\n",
        "    raise NotImplementedError()"
      ],
      "execution_count": null,
      "outputs": []
    },
    {
      "cell_type": "code",
      "metadata": {
        "deletable": false,
        "editable": false,
        "nbgrader": {
          "cell_type": "code",
          "checksum": "cb13371548049cc2ba8c8b0b2d7117bf",
          "grade": true,
          "grade_id": "cell-cee74bedb007dbfa",
          "locked": true,
          "points": 0.6,
          "schema_version": 3,
          "solution": false,
          "task": false
        },
        "id": "ZyfqhK1SZstG"
      },
      "source": [
        "x_min = 1\n",
        "alpha = 3.5\n",
        "\n",
        "theor100, empir100 = qqplot_data(alpha, x_min, 100)\n",
        "theor200, empir200 = qqplot_data(alpha, x_min, 200)\n",
        "theor1000, empir1000 = qqplot_data(alpha, x_min, 1000)\n",
        "assert np.linalg.norm(theor1000 - empir1000) < np.linalg.norm(theor200 - empir200)\n",
        "assert np.linalg.norm(theor200 - empir200) < np.linalg.norm(theor100 - empir100)"
      ],
      "execution_count": null,
      "outputs": []
    },
    {
      "cell_type": "code",
      "metadata": {
        "id": "oEu6nzvZZstH"
      },
      "source": [
        "plt.figure(figsize=(12, 3))\n",
        "\n",
        "plt.subplots_adjust(wspace=0.3)\n",
        "\n",
        "plt.subplot(1, 3, 1)\n",
        "plt.scatter(theor100, empir100, s=10)\n",
        "plt.plot([1, 7], [1, 7], '--', c='tab:orange')\n",
        "plt.title('QQ plot, N = 100')\n",
        "plt.xlabel('Theoretical distribution')\n",
        "plt.ylabel('Empirical distribution')\n",
        "plt.axis('square')\n",
        "\n",
        "plt.subplot(1, 3, 2)\n",
        "plt.scatter(theor200, empir200, s=10)\n",
        "plt.plot([1, 7], [1, 7], '--', c='tab:orange')\n",
        "plt.title('QQ plot, N = 200')\n",
        "plt.xlabel('Theoretical distribution')\n",
        "plt.ylabel('Empirical distribution')\n",
        "plt.axis('square')\n",
        "\n",
        "plt.subplot(1, 3, 3)\n",
        "plt.scatter(theor1000, empir1000, s=10)\n",
        "plt.plot([1, 7], [1, 7], '--', c='tab:orange')\n",
        "plt.title('QQ plot, N = 1000')\n",
        "plt.xlabel('Theoretical distribution')\n",
        "plt.ylabel('Empirical distribution')\n",
        "plt.axis('square');"
      ],
      "execution_count": null,
      "outputs": []
    },
    {
      "cell_type": "code",
      "metadata": {
        "id": "-WLsyQoDZstH"
      },
      "source": [
        ""
      ],
      "execution_count": null,
      "outputs": []
    }
  ]
}